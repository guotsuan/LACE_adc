{
 "cells": [
  {
   "cell_type": "code",
   "execution_count": 16,
   "metadata": {},
   "outputs": [
    {
     "name": "stdout",
     "output_type": "stream",
     "text": [
      "get data\n",
      "unit is dBm\n"
     ]
    },
    {
     "data": {
      "application/vnd.jupyter.widget-view+json": {
       "model_id": "2004052765f94cf0a6a68f1eb77df58a",
       "version_major": 2,
       "version_minor": 0
      },
      "text/plain": [
       "Canvas(toolbar=Toolbar(toolitems=[('Home', 'Reset original view', 'home', 'home'), ('Back', 'Back to previous …"
      ]
     },
     "metadata": {},
     "output_type": "display_data"
    },
    {
     "data": {
      "application/vnd.jupyter.widget-view+json": {
       "model_id": "3c3e550a96204c38847d21d75eb2ec7f",
       "version_major": 2,
       "version_minor": 0
      },
      "text/plain": [
       "Canvas(toolbar=Toolbar(toolitems=[('Home', 'Reset original view', 'home', 'home'), ('Back', 'Back to previous …"
      ]
     },
     "metadata": {},
     "output_type": "display_data"
    }
   ],
   "source": [
    "#! /usr/bin/env python\n",
    "# -*- coding: utf-8 -*-\n",
    "# vim:fenc=utf-8\n",
    "#\n",
    "# Copyright © 2021 gq <gq@gqhp>\n",
    "#\n",
    "# Distributed under terms of the MIT license.\n",
    "\n",
    "\"\"\"\n",
    "test DAC sampling\n",
    "\"\"\"\n",
    "%matplotlib widget\n",
    "\n",
    "import socket\n",
    "import numpy as np\n",
    "\n",
    "from numpy.fft import fft,rfft,rfftfreq\n",
    "import matplotlib.pyplot as plt\n",
    "\n",
    "src_udp_ip = \"192.168.90.20\"\n",
    "src_udp_port = 59000\n",
    "\n",
    "\n",
    "udp_ip = \"192.168.90.100\"\n",
    "udp_port = 60000\n",
    "\n",
    "sock = socket.socket(socket.AF_INET,  socket.SOCK_DGRAM, socket.IPPROTO_UDP)\n",
    "sock.bind((udp_ip, udp_port))\n",
    "# sock.setsockopt(socket.SO_NO_CHECK,1)\n",
    "\n",
    "\n",
    "# sock.setsockopt(socket.IPPROTO_UDP, 1, 1)\n",
    "\n",
    "# sock.connect((src_udp_ip, src_udp_port))\n",
    "# data, addr=sock.recvfrom(8000)\n",
    "\n",
    "packet_size = 8192\n",
    "size = 8200\n",
    "\n",
    "udp_data = sock.recv(size)\n",
    "udp_data = memoryview(udp_data)\n",
    "\n",
    "print(\"get data\")\n",
    "\n",
    "chunk = np.frombuffer(udp_data[0:packet_size], dtype='>i2')\n",
    "\n",
    "scale_f = 4.0/ (2 ** 16)\n",
    "real_data = chunk *  scale_f\n",
    "\n",
    "sample_rate = 480 #Mhz\n",
    "timestep = 1.0/sample_rate\n",
    "\n",
    "k = 2.23\n",
    "beta = 16.7\n",
    "       \n",
    "kasier_fil = np.kaiser(packet_size//2, beta)\n",
    "factor_kasier = np.sum(kasier_fil)/packet_size/2\n",
    "\n",
    "fft_data = rfft(real_data*kasier_fil, norm='ortho')\n",
    "freq = rfftfreq(packet_size//2, d=timestep)\n",
    "\n",
    "logdata = np.log10(np.abs(fft_data)**2)\n",
    "\n",
    "unit = 'dBm'\n",
    "\n",
    "if unit == 'dBm':\n",
    "    print(\"unit is dBm\")\n",
    "    # should I remove factor_kasier\n",
    "    # add factor=2 because the power of AC singals is 1/2\n",
    "    dbm_fft_data = 10*np.log10(np.abs(fft_data)**2/freq.size/(50*1e-3)/factor_kasier)\n",
    "\n",
    "sock.close()\n",
    "# plt.plot(freq, logdata)\n",
    "plt.figure()\n",
    "plt.plot(np.arange(real_data.size), real_data, lw = 0.5)\n",
    "# plt.plot(np.arange(real_data.size), real_data, 'o', ms=1.0)\n",
    "plt.xlabel(\"Sequence\")\n",
    "plt.ylabel(\"Voltage\")\n",
    "# plt.ylim([0.0475,0.0650])\n",
    "plt.show()\n",
    "\n",
    "plt.figure()\n",
    "plt.xlabel(\"Freq\")\n",
    "if unit == 'dBm':\n",
    "    plt.ylabel(\"dBm\")\n",
    "    plt.plot(freq, dbm_fft_data)\n",
    "else:\n",
    "    plt.ylabel(\"Power spectrum\")\n",
    "    plt.plot(freq, logdata)\n",
    "plt.show()"
   ]
  },
  {
   "cell_type": "code",
   "execution_count": 18,
   "metadata": {},
   "outputs": [
    {
     "data": {
      "application/vnd.jupyter.widget-view+json": {
       "model_id": "fa043e1df754407f948111f0a90d4531",
       "version_major": 2,
       "version_minor": 0
      },
      "text/plain": [
       "Canvas(toolbar=Toolbar(toolitems=[('Home', 'Reset original view', 'home', 'home'), ('Back', 'Back to previous …"
      ]
     },
     "metadata": {},
     "output_type": "display_data"
    }
   ],
   "source": [
    "redata = real_data\n",
    "redata[748],redata[749] =redata[749], redata[748]\n",
    "plt.figure()\n",
    "plt.plot(np.arange(real_data.size), redata, lw = 0.5)\n",
    "plt.plot(np.arange(real_data.size), redata, 'o', ms=1.0)\n",
    "plt.xlim([720, 780])\n",
    "plt.ylim([0.048, 0.062])\n",
    "plt.show()\n"
   ]
  },
  {
   "cell_type": "code",
   "execution_count": 12,
   "metadata": {},
   "outputs": [
    {
     "data": {
      "text/plain": [
       "6.103515625e-05"
      ]
     },
     "execution_count": 12,
     "metadata": {},
     "output_type": "execute_result"
    }
   ],
   "source": [
    "scale_f"
   ]
  },
  {
   "cell_type": "code",
   "execution_count": 86,
   "metadata": {},
   "outputs": [
    {
     "name": "stdout",
     "output_type": "stream",
     "text": [
      "55956\n"
     ]
    }
   ],
   "source": [
    "print(0b1101101010010100)"
   ]
  },
  {
   "cell_type": "code",
   "execution_count": 87,
   "metadata": {},
   "outputs": [
    {
     "data": {
      "text/plain": [
       "13989"
      ]
     },
     "execution_count": 87,
     "metadata": {},
     "output_type": "execute_result"
    }
   ],
   "source": [
    "x=0b1101101010010100\n",
    "x>>2"
   ]
  },
  {
   "cell_type": "code",
   "execution_count": 88,
   "metadata": {},
   "outputs": [
    {
     "data": {
      "text/plain": [
       "223824"
      ]
     },
     "execution_count": 88,
     "metadata": {},
     "output_type": "execute_result"
    }
   ],
   "source": [
    "x<<2\n"
   ]
  },
  {
   "cell_type": "code",
   "execution_count": null,
   "metadata": {},
   "outputs": [],
   "source": []
  }
 ],
 "metadata": {
  "kernelspec": {
   "display_name": "Python 3",
   "language": "python",
   "name": "python3"
  },
  "language_info": {
   "codemirror_mode": {
    "name": "ipython",
    "version": 3
   },
   "file_extension": ".py",
   "mimetype": "text/x-python",
   "name": "python",
   "nbconvert_exporter": "python",
   "pygments_lexer": "ipython3",
   "version": "3.8.6"
  }
 },
 "nbformat": 4,
 "nbformat_minor": 4
}
