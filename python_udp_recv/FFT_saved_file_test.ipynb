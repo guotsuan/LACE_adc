{
 "cells": [
  {
   "cell_type": "markdown",
   "id": "7cc12b9b-137b-407c-bf47-edd961f6b1d9",
   "metadata": {},
   "source": [
    "# FFT saved file test"
   ]
  },
  {
   "cell_type": "code",
   "execution_count": 39,
   "id": "638130b1-f6f6-4fb8-9374-0a7a2187a68f",
   "metadata": {},
   "outputs": [
    {
     "name": "stdout",
     "output_type": "stream",
     "text": [
      "[b'2022-03-17T17:26:01.466352' b'2022-03-17T17:26:01.490921'\n",
      " b'2022-03-17T17:26:01.530483' b'2022-03-17T17:26:01.557630'\n",
      " b'2022-03-17T17:26:01.584256' b'2022-03-17T17:26:01.611098'\n",
      " b'2022-03-17T17:26:01.637648' b'2022-03-17T17:26:01.665094'\n",
      " b'2022-03-17T17:26:01.691904' b'2022-03-17T17:26:01.719405'\n",
      " b'2022-03-17T17:26:01.746212' b'2022-03-17T17:26:01.773405'\n",
      " b'2022-03-17T17:26:01.800784' b'2022-03-17T17:26:01.827730'\n",
      " b'2022-03-17T17:26:01.854781' b'2022-03-17T17:26:01.881259'\n",
      " b'2022-03-17T17:26:01.907213' b'2022-03-17T17:26:01.933852'\n",
      " b'2022-03-17T17:26:01.960289' b'2022-03-17T17:26:01.986252'\n",
      " b'2022-03-17T17:26:02.012343' b'2022-03-17T17:26:02.037946'\n",
      " b'2022-03-17T17:26:02.064168' b'2022-03-17T17:26:02.089408'\n",
      " b'2022-03-17T17:26:02.116610' b'2022-03-17T17:26:02.142142'\n",
      " b'2022-03-17T17:26:02.168922' b'2022-03-17T17:26:02.194886'\n",
      " b'2022-03-17T17:26:02.220470' b'2022-03-17T17:26:02.246960'\n",
      " b'2022-03-17T17:26:02.276317' b'2022-03-17T17:26:02.307022']\n"
     ]
    }
   ],
   "source": [
    "import numpy as np\n",
    "import h5py as h5\n",
    "from fft_helper import fft_to_dBm\n",
    "\n",
    "%matplotlib widget\n",
    "\n",
    "from numpy.fft import fft,rfft,rfftfreq\n",
    "import matplotlib.pyplot as plt\n",
    "\n",
    "fname = './raw_test/2022-03-17/17/RAW_output1_0.h5'\n",
    "\n",
    "f = h5.File(fname, 'r')\n",
    "\n",
    "# py = f['amplitude'][...]\n",
    "\n",
    "time = f['block_time'][...]\n",
    "\n",
    "print(f['block_time'][...])\n",
    "\n",
    "st = 1/480.\n",
    "px = rfftfreq(4096*16, d=st)\n",
    "\n",
    "#print(py[0,0:100])\n",
    "\n",
    "# print(time[0:20])\n",
    "# plt.plot(px, fft_to_dBm(py[-1,...]))\n",
    "# plt.show()\n"
   ]
  },
  {
   "cell_type": "markdown",
   "id": "aed85ee7-afd0-41cd-9598-45f48e1e10ea",
   "metadata": {},
   "source": [
    "# GPU FFT test"
   ]
  },
  {
   "cell_type": "code",
   "execution_count": 31,
   "id": "c2229dde-6546-4036-a446-11b53249b0e5",
   "metadata": {},
   "outputs": [
    {
     "name": "stderr",
     "output_type": "stream",
     "text": [
      "2022-03-05 16:19:11.111114: I tensorflow/core/common_runtime/gpu/gpu_device.cc:1525] Created device /device:GPU:0 with 47169 MB memory:  -> device: 0, name: Quadro RTX 8000, pci bus id: 0000:7c:00.0, compute capability: 7.5\n"
     ]
    },
    {
     "data": {
      "text/plain": [
       "['/device:GPU:0']"
      ]
     },
     "execution_count": 31,
     "metadata": {},
     "output_type": "execute_result"
    }
   ],
   "source": [
    "from tensorflow.python.client import device_lib\n",
    "\n",
    "def get_available_gpus():\n",
    "    local_device_protos = device_lib.list_local_devices()\n",
    "    return [x.name for x in local_device_protos if x.device_type == 'GPU']\n",
    "get_available_gpus()"
   ]
  },
  {
   "cell_type": "code",
   "execution_count": 4,
   "id": "7223346c-5612-4c41-a3ba-5b94df71cfce",
   "metadata": {},
   "outputs": [
    {
     "name": "stdout",
     "output_type": "stream",
     "text": [
      "PyTorch\n",
      "GPU available: True\n"
     ]
    }
   ],
   "source": [
    "import torch\n",
    "\n",
    "torchdevice = 0\n",
    "\n",
    "names =[]\n",
    "\n",
    "name = 'PyTorch\\nGPU'\n",
    "device_type = 'cuda'\n",
    "device = torch.device('cuda:{}'.format(torchdevice))\n",
    "names.append(name)\n",
    "print('{} available: {}'.format(name, torch.cuda.is_available()))"
   ]
  },
  {
   "cell_type": "code",
   "execution_count": 16,
   "id": "793c730a-ba9e-4f5c-b177-28e537a86c1c",
   "metadata": {},
   "outputs": [
    {
     "name": "stdout",
     "output_type": "stream",
     "text": [
      "PyTorch\n",
      "GPU available: True\n",
      "Working on device: cuda:0\n",
      "PyTorch GPU 512x512\n",
      "26 µs ± 3.19 ns per loop (mean ± std. dev. of 7 runs, 10,000 loops each)\n",
      "PyTorch GPU 1024x1024\n",
      "172 µs ± 27.6 ns per loop (mean ± std. dev. of 7 runs, 10,000 loops each)\n",
      "PyTorch GPU 2048x2048\n",
      "678 µs ± 31.3 ns per loop (mean ± std. dev. of 7 runs, 1,000 loops each)\n",
      "PyTorch GPU 4096x4096\n",
      "2.7 ms ± 35.6 ns per loop (mean ± std. dev. of 7 runs, 1,000 loops each)\n"
     ]
    }
   ],
   "source": [
    "import torch\n",
    "import mkl_fft\n",
    "def torch_ifft2_fft2(data):\n",
    "    signal_ndim = 2\n",
    "    data2 = torch.fft.fft(data)\n",
    "    return torch.fft.ifft(data2)\n",
    "\n",
    "def np_ifft2_fft2(data):\n",
    "    data2 = mkl_fft.fft.fft2(data)\n",
    "    return mkl_fft.fft.ifft2(data2)\n",
    "\n",
    "sizes = [512, 1024, 2048, 4096] # X * X pixel arrays/tensors\n",
    "names = []\n",
    "totaltimes=[]\n",
    "name = 'PyTorch\\nGPU'\n",
    "device_type = 'cuda'\n",
    "device = torch.device('cuda:{}'.format(0))\n",
    "names.append(name)\n",
    "print('{} available: {}'.format(name, torch.cuda.is_available()))\n",
    "torchtimes = []\n",
    "datas = [torch.randn(size=(x,x,2), device=device) for x in sizes]\n",
    "print(f'Working on device: {datas[0].device}')\n",
    "for x, data in zip(sizes, datas):\n",
    "    print('{} {}x{}'.format(\" \".join(name.split('\\n')), x, x))\n",
    "    t = %timeit -o torch_ifft2_fft2(data)\n",
    "    torchtimes.append(t)\n",
    "totaltimes.append(torchtimes)"
   ]
  },
  {
   "cell_type": "code",
   "execution_count": 15,
   "id": "9c1747a9-3fa3-46f6-85b5-60dc270b7b46",
   "metadata": {},
   "outputs": [
    {
     "name": "stdout",
     "output_type": "stream",
     "text": [
      "Working on device: cpu\n",
      "PyTorch CPU 512x512\n",
      "296 µs ± 26.2 µs per loop (mean ± std. dev. of 7 runs, 1,000 loops each)\n",
      "PyTorch CPU 1024x1024\n",
      "533 µs ± 1.99 µs per loop (mean ± std. dev. of 7 runs, 1,000 loops each)\n",
      "PyTorch CPU 2048x2048\n",
      "18.1 ms ± 64.2 µs per loop (mean ± std. dev. of 7 runs, 100 loops each)\n",
      "PyTorch CPU 4096x4096\n",
      "61.4 ms ± 192 µs per loop (mean ± std. dev. of 7 runs, 10 loops each)\n"
     ]
    }
   ],
   "source": [
    "name = 'PyTorch\\nCPU'\n",
    "device_type = 'cpu'\n",
    "device = torch.device(device_type)\n",
    "names.append(name)\n",
    "torchtimes = []\n",
    "datas = [torch.randn((x,x,2), device=device) for x in sizes]\n",
    "print(f'Working on device: {datas[0].device}')\n",
    "for x, data in zip(sizes, datas):\n",
    "    print('{} {}x{}'.format(\" \".join(name.split('\\n')), x, x))\n",
    "    t = %timeit -o torch_ifft2_fft2(data)\n",
    "    torchtimes.append(t)\n",
    "totaltimes.append(torchtimes)"
   ]
  },
  {
   "cell_type": "code",
   "execution_count": 21,
   "id": "f1ed2615-19d9-49e1-9098-ba67fa689b60",
   "metadata": {},
   "outputs": [
    {
     "name": "stdout",
     "output_type": "stream",
     "text": [
      "Numpy CPU 512x512\n",
      "9.3 ms ± 16.1 µs per loop (mean ± std. dev. of 7 runs, 100 loops each)\n",
      "Numpy CPU 1024x1024\n",
      "51 ms ± 36.9 µs per loop (mean ± std. dev. of 7 runs, 10 loops each)\n",
      "Numpy CPU 2048x2048\n",
      "330 ms ± 412 µs per loop (mean ± std. dev. of 7 runs, 1 loop each)\n",
      "Numpy CPU 4096x4096\n",
      "1.39 s ± 1.83 ms per loop (mean ± std. dev. of 7 runs, 1 loop each)\n"
     ]
    }
   ],
   "source": [
    "import numpy as np\n",
    "\n",
    "name = 'Numpy\\nCPU'\n",
    "names.append(name)\n",
    "nptimes = []\n",
    "datas = [np.random.normal(size=(x,x)).astype('complex128') for x in sizes]\n",
    "for x, data in zip(sizes, datas):\n",
    "    print('{} {}x{}'.format(\" \".join(name.split('\\n')), x, x))\n",
    "    t = %timeit -o np_ifft2_fft2(data)\n",
    "    nptimes.append(t)\n",
    "totaltimes.append(nptimes)"
   ]
  },
  {
   "cell_type": "code",
   "execution_count": 18,
   "id": "cb4ce741-89ea-4d83-9280-358e99212dc0",
   "metadata": {},
   "outputs": [
    {
     "name": "stdout",
     "output_type": "stream",
     "text": [
      "CuPy GPU 512x512\n",
      "216 µs ± 57.5 ns per loop (mean ± std. dev. of 7 runs, 1,000 loops each)\n",
      "CuPy GPU 1024x1024\n",
      "1.01 ms ± 3.05 µs per loop (mean ± std. dev. of 7 runs, 1,000 loops each)\n",
      "CuPy GPU 2048x2048\n",
      "3.89 ms ± 12.5 µs per loop (mean ± std. dev. of 7 runs, 1,000 loops each)\n",
      "CuPy GPU 4096x4096\n",
      "15.8 ms ± 1.33 ms per loop (mean ± std. dev. of 7 runs, 100 loops each)\n"
     ]
    }
   ],
   "source": [
    "import cupy as cp\n",
    "\n",
    "def cp_ifft2_fft2(data):\n",
    "    data2 = cp.fft.fft2(data)\n",
    "    return cp.fft.ifft2(data2)\n",
    "\n",
    "name = 'CuPy\\nGPU'\n",
    "names.append(name)\n",
    "cptimes = []\n",
    "device = cp.cuda.Device(0)\n",
    "with device:\n",
    "    datas = [cp.random.normal(size=(x,x)).astype('complex128') for x in sizes]\n",
    "    for x, data in zip(sizes, datas):\n",
    "        print('{} {}x{}'.format(\" \".join(name.split('\\n')), x, x))\n",
    "        t = %timeit -o cp_ifft2_fft2(data)\n",
    "        cptimes.append(t)\n",
    "    totaltimes.append(cptimes)\n",
    "\n",
    "# # Clear cupy memory\n",
    "# mempool = cp.get_default_memory_pool()\n",
    "# del datas\n",
    "# mempool.free_all_blocks()"
   ]
  },
  {
   "cell_type": "code",
   "execution_count": null,
   "id": "24d51177-89f3-4e79-abbe-2bd2323bb8f7",
   "metadata": {},
   "outputs": [],
   "source": []
  }
 ],
 "metadata": {
  "kernelspec": {
   "display_name": "Python 3 (ipykernel)",
   "language": "python",
   "name": "python3"
  },
  "language_info": {
   "codemirror_mode": {
    "name": "ipython",
    "version": 3
   },
   "file_extension": ".py",
   "mimetype": "text/x-python",
   "name": "python",
   "nbconvert_exporter": "python",
   "pygments_lexer": "ipython3",
   "version": "3.9.10"
  }
 },
 "nbformat": 4,
 "nbformat_minor": 5
}
