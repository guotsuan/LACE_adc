{
 "cells": [
  {
   "cell_type": "markdown",
   "id": "227b6f8d-0164-4022-8989-a11d74adef27",
   "metadata": {},
   "source": [
    "# Check the the status of outputing network "
   ]
  },
  {
   "cell_type": "code",
   "execution_count": null,
   "id": "00ff9edb-af7d-4279-bcca-2127f69da0e6",
   "metadata": {},
   "outputs": [],
   "source": [
    "from "
   ]
  }
 ],
 "metadata": {
  "kernelspec": {
   "display_name": "Python 3 (ipykernel)",
   "language": "python",
   "name": "python3"
  },
  "language_info": {
   "codemirror_mode": {
    "name": "ipython",
    "version": 3
   },
   "file_extension": ".py",
   "mimetype": "text/x-python",
   "name": "python",
   "nbconvert_exporter": "python",
   "pygments_lexer": "ipython3",
   "version": "3.8.12"
  }
 },
 "nbformat": 4,
 "nbformat_minor": 5
}
